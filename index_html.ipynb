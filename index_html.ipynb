{
  "nbformat": 4,
  "nbformat_minor": 0,
  "metadata": {
    "colab": {
      "provenance": [],
      "authorship_tag": "ABX9TyMVFiCZmO56c1ky0AP1sGHX",
      "include_colab_link": true
    },
    "kernelspec": {
      "name": "python3",
      "display_name": "Python 3"
    },
    "language_info": {
      "name": "python"
    }
  },
  "cells": [
    {
      "cell_type": "markdown",
      "metadata": {
        "id": "view-in-github",
        "colab_type": "text"
      },
      "source": [
        "<a href=\"https://colab.research.google.com/github/Subhaji24/ajee/blob/main/index_html.ipynb\" target=\"_parent\"><img src=\"https://colab.research.google.com/assets/colab-badge.svg\" alt=\"Open In Colab\"/></a>"
      ]
    },
    {
      "cell_type": "code",
      "execution_count": null,
      "metadata": {
        "id": "pQYgWzTIF9Gp"
      },
      "outputs": [],
      "source": [
        "<!DOCTYPE html>\n",
        "<html lang=\"en\">\n",
        "<head>\n",
        "    <meta charset=\"UTF-8\">\n",
        "    <meta name=\"viewport\" content=\"width=device-width, initial-scale=1.0\">\n",
        "    <title>Face Recognition</title>\n",
        "</head>\n",
        "<body>\n",
        "    <h1>Face Recognition</h1>\n",
        "\n",
        "    <video id=\"video\" width=\"640\" height=\"480\" autoplay></video>\n",
        "    <button id=\"capture-button\">Capture</button>\n",
        "    <canvas id=\"canvas\" style=\"display: none;\"></canvas>\n",
        "\n",
        "    <script>\n",
        "        // Get video element\n",
        "        const video = document.getElementById('video');\n",
        "\n",
        "        // Get canvas element\n",
        "        const canvas = document.getElementById('canvas');\n",
        "        const context = canvas.getContext('2d');\n",
        "\n",
        "        // Capture button\n",
        "        const captureButton = document.getElementById('capture-button');\n",
        "\n",
        "        // Get user media\n",
        "        async function getMedia() {\n",
        "            try {\n",
        "                const stream = await navigator.mediaDevices.getUserMedia({ video: true });\n",
        "                video.srcObject = stream;\n",
        "            } catch(err) {\n",
        "                console.error('Error accessing webcam:', err);\n",
        "            }\n",
        "        }\n",
        "\n",
        "        // Take photo\n",
        "        captureButton.addEventListener('click', async () => {\n",
        "            // Draw current video frame on the canvas\n",
        "            context.drawImage(video, 0, 0, canvas.width, canvas.height);\n",
        "\n",
        "            // Convert canvas image to base64 string\n",
        "            const base64Image = canvas.toDataURL('image/jpeg');\n",
        "\n",
        "            // Send base64 image to Flask server\n",
        "            fetch('/check_face', {\n",
        "                method: 'POST',\n",
        "                headers: {\n",
        "                    'Content-Type': 'application/x-www-form-urlencoded'\n",
        "                },\n",
        "                body: `image=${encodeURIComponent(base64Image)}`\n",
        "            })\n",
        "            .then(response => response.json())\n",
        "            .then(data => {\n",
        "                console.log(data);\n",
        "                alert(data.result);\n",
        "            })\n",
        "            .catch(error => {\n",
        "                console.error('Error sending image to server:', error);\n",
        "            });\n",
        "        });\n",
        "\n",
        "        // Start streaming video when the page loads\n",
        "        getMedia();\n",
        "    </script>\n",
        "</body>\n",
        "</html>\n"
      ]
    }
  ]
}